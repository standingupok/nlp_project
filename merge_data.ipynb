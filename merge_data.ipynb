{
 "cells": [
  {
   "cell_type": "code",
   "execution_count": 5,
   "id": "27615124-07a6-455c-ad83-9b6fdab62e0e",
   "metadata": {},
   "outputs": [
    {
     "name": "stdout",
     "output_type": "stream",
     "text": [
      "File merged_dataset.csv đã được tạo thành công!\n"
     ]
    }
   ],
   "source": [
    "import pandas as pd\n",
    "\n",
    "# Đọc dữ liệu từ hai file CSV\n",
    "df1 = pd.read_csv('SMSSpamCollection.txt', sep='\\t', header=None, names=['label', 'message'])\n",
    "df2 = pd.read_csv('messages.csv')\n",
    "df3 = pd.read_csv('email_classification.csv')\n",
    "\n",
    "df3.rename(columns={'email': 'message'}, inplace=True)\n",
    "# Chuẩn hóa nhãn trong df2\n",
    "df2['label'] = df2['label'].map({0: 'ham', 1: 'spam'})\n",
    "\n",
    "df1_subset = df1[['label', 'message']].dropna()\n",
    "df2_subset = df2[['label', 'message']].dropna()\n",
    "df3_subset = df3[['label', 'message']].dropna()\n",
    "\n",
    "merged_df = pd.concat([df1_subset, df2_subset, df3_subset], ignore_index=True)\n",
    "\n",
    "merged_df.to_csv('merged_3_dataset.csv', index=False)\n",
    "\n",
    "print(\"File merged_dataset.csv đã được tạo thành công!\")"
   ]
  },
  {
   "cell_type": "code",
   "execution_count": 6,
   "id": "8b7b0083-96a7-4bc1-9e78-36a8a8308f21",
   "metadata": {},
   "outputs": [
    {
     "data": {
      "text/html": [
       "<div>\n",
       "<style scoped>\n",
       "    .dataframe tbody tr th:only-of-type {\n",
       "        vertical-align: middle;\n",
       "    }\n",
       "\n",
       "    .dataframe tbody tr th {\n",
       "        vertical-align: top;\n",
       "    }\n",
       "\n",
       "    .dataframe thead th {\n",
       "        text-align: right;\n",
       "    }\n",
       "</style>\n",
       "<table border=\"1\" class=\"dataframe\">\n",
       "  <thead>\n",
       "    <tr style=\"text-align: right;\">\n",
       "      <th></th>\n",
       "      <th>message</th>\n",
       "      <th>label</th>\n",
       "    </tr>\n",
       "  </thead>\n",
       "  <tbody>\n",
       "    <tr>\n",
       "      <th>0</th>\n",
       "      <td>Upgrade to our premium plan for exclusive acce...</td>\n",
       "      <td>ham</td>\n",
       "    </tr>\n",
       "    <tr>\n",
       "      <th>1</th>\n",
       "      <td>Happy holidays from our team! Wishing you joy ...</td>\n",
       "      <td>ham</td>\n",
       "    </tr>\n",
       "    <tr>\n",
       "      <th>2</th>\n",
       "      <td>We're hiring! Check out our career opportuniti...</td>\n",
       "      <td>ham</td>\n",
       "    </tr>\n",
       "    <tr>\n",
       "      <th>3</th>\n",
       "      <td>Your Amazon account has been locked. Click her...</td>\n",
       "      <td>spam</td>\n",
       "    </tr>\n",
       "    <tr>\n",
       "      <th>4</th>\n",
       "      <td>Your opinion matters! Take our survey and help...</td>\n",
       "      <td>ham</td>\n",
       "    </tr>\n",
       "    <tr>\n",
       "      <th>...</th>\n",
       "      <td>...</td>\n",
       "      <td>...</td>\n",
       "    </tr>\n",
       "    <tr>\n",
       "      <th>174</th>\n",
       "      <td>We're pleased to inform you that your refund h...</td>\n",
       "      <td>ham</td>\n",
       "    </tr>\n",
       "    <tr>\n",
       "      <th>175</th>\n",
       "      <td>Get rich quick! Invest in our revolutionary ne...</td>\n",
       "      <td>spam</td>\n",
       "    </tr>\n",
       "    <tr>\n",
       "      <th>176</th>\n",
       "      <td>Your free trial period is ending soon. Upgrade...</td>\n",
       "      <td>ham</td>\n",
       "    </tr>\n",
       "    <tr>\n",
       "      <th>177</th>\n",
       "      <td>Your order is on its way! Track your shipment ...</td>\n",
       "      <td>ham</td>\n",
       "    </tr>\n",
       "    <tr>\n",
       "      <th>178</th>\n",
       "      <td>Limited-time offer! Get 50% off on all purchas...</td>\n",
       "      <td>spam</td>\n",
       "    </tr>\n",
       "  </tbody>\n",
       "</table>\n",
       "<p>179 rows × 2 columns</p>\n",
       "</div>"
      ],
      "text/plain": [
       "                                               message label\n",
       "0    Upgrade to our premium plan for exclusive acce...   ham\n",
       "1    Happy holidays from our team! Wishing you joy ...   ham\n",
       "2    We're hiring! Check out our career opportuniti...   ham\n",
       "3    Your Amazon account has been locked. Click her...  spam\n",
       "4    Your opinion matters! Take our survey and help...   ham\n",
       "..                                                 ...   ...\n",
       "174  We're pleased to inform you that your refund h...   ham\n",
       "175  Get rich quick! Invest in our revolutionary ne...  spam\n",
       "176  Your free trial period is ending soon. Upgrade...   ham\n",
       "177  Your order is on its way! Track your shipment ...   ham\n",
       "178  Limited-time offer! Get 50% off on all purchas...  spam\n",
       "\n",
       "[179 rows x 2 columns]"
      ]
     },
     "execution_count": 6,
     "metadata": {},
     "output_type": "execute_result"
    }
   ],
   "source": [
    "df3"
   ]
  },
  {
   "cell_type": "code",
   "execution_count": null,
   "id": "02fb99db-144e-4718-a789-508fe4915592",
   "metadata": {},
   "outputs": [],
   "source": [
    "import pandas as pd\n",
    "\n",
    "file_path = 'spam_dataset.csv'\n",
    "df = pd.read_csv(file_path)\n",
    "\n",
    "df.rename(columns={\"message_content\": \"message\", \"is_spam\": \"label\"}, inplace=True)\n",
    "\n",
    "df['label'] = df['label'].map({0: 'ham', 1: 'spam'})\n",
    "\n",
    "output_path = 'updated_file.csv'\n",
    "df.to_csv(output_path, index=False)\n",
    "\n",
    "print(df.head())"
   ]
  }
 ],
 "metadata": {
  "kernelspec": {
   "display_name": "Python 3 (ipykernel)",
   "language": "python",
   "name": "python3"
  },
  "language_info": {
   "codemirror_mode": {
    "name": "ipython",
    "version": 3
   },
   "file_extension": ".py",
   "mimetype": "text/x-python",
   "name": "python",
   "nbconvert_exporter": "python",
   "pygments_lexer": "ipython3",
   "version": "3.12.4"
  }
 },
 "nbformat": 4,
 "nbformat_minor": 5
}
